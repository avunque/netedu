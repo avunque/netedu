{
 "cells": [
  {
   "cell_type": "markdown",
   "id": "4e19bb27",
   "metadata": {},
   "source": [
    "\n",
    "# 💬 Análisis de Sentimientos con IA  \n",
    "**Curso de Análisis de Datos con Inteligencia Artificial**  \n",
    "**Autores:** Doribel Rodríguez y Antonio Vantaggiato\n",
    "\n",
    "**Objetivo pedagógico.** Comprender cómo los modelos de IA interpretan emociones en texto (polaridad y subjetividad), practicar con ejemplos guiados y realizar un mini laboratorio comparativo.\n"
   ]
  },
  {
   "cell_type": "markdown",
   "id": "9106900d",
   "metadata": {},
   "source": [
    "\n",
    "## 🧠 ¿Cómo funciona el análisis de sentimientos clásico?\n",
    "\n",
    "En este cuaderno usaremos **TextBlob**, que implementa un analizador llamado **PatternAnalyzer**.  \n",
    "Este enfoque **no usa redes neuronales**; aplica un método **léxico + reglas**:\n",
    "\n",
    "- Un **léxico** asigna a cada palabra valores de **polaridad** (−1 negativo → +1 positivo) y **subjetividad** (0 objetivo → 1 subjetivo).\n",
    "- Reglas manejan **negaciones** (“no”, “nunca”), **intensificadores** (“muy”) y **atenuadores** (“poco”).\n",
    "\n",
    "### Cálculo (intuición)\n",
    "- **Polaridad:** promedio ponderado de palabras con carga emocional.  \n",
    "  > “excelente” (+1.0) y “caro” (−0.6) ⇒ promedio ≈ **+0.2** (ligeramente positivo).\n",
    "- **Subjetividad:** promedio de cuán “opinativas” son las palabras (p. ej., “creo”, “maravilloso”).\n",
    "\n",
    "### Ventajas y límites\n",
    "- ✅ Transparente, rápido, sin entrenamiento.  \n",
    "- ⚠️ No capta sarcasmo ni contexto profundo; puede sesgarse por idioma o dominio.\n"
   ]
  },
  {
   "cell_type": "markdown",
   "id": "d0547703",
   "metadata": {},
   "source": [
    "## 1) Preparación del entorno"
   ]
  },
  {
   "cell_type": "code",
   "execution_count": null,
   "id": "c25c7682",
   "metadata": {},
   "outputs": [],
   "source": [
    "\n",
    "!pip -q install textblob\n",
    "from textblob import TextBlob\n",
    "import matplotlib.pyplot as plt\n",
    "import pandas as pd\n",
    "%matplotlib inline\n"
   ]
  },
  {
   "cell_type": "markdown",
   "id": "70b8c2ab",
   "metadata": {},
   "source": [
    "\n",
    "## 2) Ejemplo guiado: una frase con matices\n",
    "Analizaremos un texto en español. Intentaremos traducir a inglés automáticamente para aprovechar el analizador clásico.\n",
    "Si la traducción no funciona (por falta de conexión o límite), haremos el análisis directo como respaldo.\n"
   ]
  },
  {
   "cell_type": "code",
   "execution_count": null,
   "id": "02d67020",
   "metadata": {},
   "outputs": [],
   "source": [
    "\n",
    "texto = \"Estoy muy feliz con los resultados de mi proyecto, aunque un poco cansado.\"\n",
    "\n",
    "blob = TextBlob(texto)\n",
    "\n",
    "try:\n",
    "    blob_en = blob.translate(to='en')\n",
    "    fuente = \"Traducido automáticamente al inglés para análisis\"\n",
    "except Exception:\n",
    "    blob_en = blob\n",
    "    fuente = \"Análisis directo del texto (sin traducción)\"\n",
    "    print(\"Aviso: no se pudo traducir automáticamente. Se usa el texto original.\")\n",
    "\n",
    "polaridad = blob_en.sentiment.polarity\n",
    "subjetividad = blob_en.sentiment.subjectivity\n",
    "\n",
    "print(f\"Texto: {texto}\")\n",
    "print(f\"Fuente del análisis: {fuente}\")\n",
    "print(f\"Polaridad: {polaridad:.3f}\")\n",
    "print(f\"Subjetividad: {subjetividad:.3f}\")\n"
   ]
  },
  {
   "cell_type": "markdown",
   "id": "79fc7aef",
   "metadata": {},
   "source": [
    "### Visualización rápida"
   ]
  },
  {
   "cell_type": "code",
   "execution_count": null,
   "id": "56d6c1a0",
   "metadata": {},
   "outputs": [],
   "source": [
    "\n",
    "plt.figure(figsize=(5,4))\n",
    "plt.bar([\"Polaridad\", \"Subjetividad\"], [polaridad, subjetividad])\n",
    "plt.ylim(-1,1)\n",
    "plt.axhline(0, color=\"gray\", linestyle=\"--\")\n",
    "plt.title(\"Sentimiento del texto de ejemplo\")\n",
    "plt.show()\n"
   ]
  },
  {
   "cell_type": "markdown",
   "id": "d248eb35",
   "metadata": {},
   "source": [
    "\n",
    "## 3) 🔬 Mini laboratorio: múltiples frases\n",
    "Ahora analizaremos varias frases para comparar **polaridad** y **subjetividad**.  \n",
    "Observa qué casos salen mal, dónde hay ambigüedad y si notas efectos del idioma.\n"
   ]
  },
  {
   "cell_type": "code",
   "execution_count": null,
   "id": "f5e0422b",
   "metadata": {},
   "outputs": [],
   "source": [
    "\n",
    "frases = [\n",
    "    \"Este curso me ha encantado, aprendí muchísimo.\",\n",
    "    \"No estoy satisfecho con el servicio recibido.\",\n",
    "    \"El clima está templado y agradable hoy.\",\n",
    "    \"Creo que el producto es bueno, aunque un poco caro.\",\n",
    "    \"¡Qué maravilla de película!\",\n",
    "    \"No fue tan malo como esperaba.\",\n",
    "    \"Me parece injusto lo que ocurrió en la reunión.\",\n",
    "    \"Es un hecho que el agua hierve a 100 grados.\",\n",
    "    \"Estoy totalmente decepcionado del resultado final.\"\n",
    "]\n",
    "\n",
    "resultados = []\n",
    "for f in frases:\n",
    "    b = TextBlob(f)\n",
    "    try:\n",
    "        b_en = b.translate(to='en')\n",
    "    except Exception:\n",
    "        b_en = b\n",
    "    pol = b_en.sentiment.polarity\n",
    "    sub = b_en.sentiment.subjectivity\n",
    "    resultados.append((f, pol, sub))\n",
    "\n",
    "df = pd.DataFrame(resultados, columns=[\"Frase\", \"Polaridad\", \"Subjetividad\"])\n",
    "display(df)\n",
    "\n",
    "import matplotlib.pyplot as plt\n",
    "plt.figure(figsize=(8,5))\n",
    "plt.scatter(df[\"Polaridad\"], df[\"Subjetividad\"])\n",
    "for i, row in df.iterrows():\n",
    "    plt.annotate(str(i+1), (row[\"Polaridad\"], row[\"Subjetividad\"]), xytext=(3,3), textcoords=\"offset points\")\n",
    "plt.title(\"Mapa de Polaridad y Subjetividad (frases del mini lab)\")\n",
    "plt.xlabel(\"Polaridad (-1 negativo → +1 positivo)\")\n",
    "plt.ylabel(\"Subjetividad (0 objetivo → 1 subjetivo)\")\n",
    "plt.grid(True)\n",
    "plt.show()\n"
   ]
  },
  {
   "cell_type": "markdown",
   "id": "49b29c09",
   "metadata": {},
   "source": [
    "\n",
    "## 4) Interpretación y cierre\n",
    "- Los puntos más a la **derecha** tienden a ser más **positivos**; a la **izquierda**, más **negativos**.  \n",
    "- Los puntos más **arriba** indican mayor **subjetividad** (opinión); más **abajo**, mayor **objetividad** (hecho).\n",
    "\n",
    "**Buenas prácticas de lectura crítica:**\n",
    "- Considera que traducciones automáticas, ironías y lenguaje coloquial pueden distorsionar resultados.\n",
    "- La IA **apoya** el análisis, pero la interpretación responsable es **humana**.\n"
   ]
  }
 ],
 "metadata": {
  "colab": {
   "name": "analisis_sentimientos.ipynb"
  },
  "kernelspec": {
   "display_name": "Python 3",
   "name": "python3"
  },
  "language_info": {
   "name": "python",
   "version": "3.x"
  }
 },
 "nbformat": 4,
 "nbformat_minor": 5
}
