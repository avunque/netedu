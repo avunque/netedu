{
 "cells": [
  {
   "cell_type": "markdown",
   "id": "8f048b65",
   "metadata": {},
   "source": [
    "\n",
    "# 💬 Sentiment Analysis — Comparative Exploration (v2)\n",
    "**Course: Data Analysis with AI**  \n",
    "**Authors:** Doribel Rodríguez and Antonio Vantaggiato\n",
    "\n",
    "This notebook explores how artificial intelligence determines **sentiment polarity** (positive/negative) and **subjectivity** (objective/opinionated) in English texts.  \n",
    "It compares two analyzers from `TextBlob`:\n",
    "\n",
    "- `PatternAnalyzer`: rule-based, using a lexical dictionary of word valences.\n",
    "- `NaiveBayesAnalyzer`: probabilistic model trained on labeled movie reviews.\n",
    "\n",
    "You will experiment with both and understand their differences and limitations.\n"
   ]
  },
  {
   "cell_type": "markdown",
   "id": "ae90a5b5",
   "metadata": {},
   "source": [
    "\n",
    "## 🧠 How Sentiment Analysis Works\n",
    "\n",
    "| Analyzer | Principle | Trained Model? | Output | Strengths | Weaknesses |\n",
    "|-----------|------------|----------------|---------|------------|-------------|\n",
    "| **PatternAnalyzer** | Lexicon and rules | ❌ No | polarity ∈ [-1, 1], subjectivity ∈ [0,1] | Fast, transparent | Context-insensitive, weak on sarcasm |\n",
    "| **NaiveBayesAnalyzer** | Probabilistic model (`P(word|class)`) | ✅ Yes | class probability | Learns from examples | Needs English text, limited domain |\n",
    "\n",
    "### Terminology\n",
    "- **Polarity**: measures sentiment direction from negative (-1) to positive (+1).\n",
    "- **Subjectivity**: indicates how opinionated a text is (0 = objective, 1 = subjective).\n"
   ]
  },
  {
   "cell_type": "code",
   "execution_count": null,
   "id": "fd685900",
   "metadata": {},
   "outputs": [],
   "source": [
    "\n",
    "from textblob import TextBlob\n",
    "from textblob.sentiments import NaiveBayesAnalyzer\n",
    "\n",
    "# Example sentences\n",
    "texts = [\n",
    "    \"I love this course.\",\n",
    "    \"This is terrible.\",\n",
    "    \"It's okay, I guess.\",\n",
    "    \"What a fantastic day!\",\n",
    "    \"I am not happy about this situation.\"\n",
    "]\n",
    "\n",
    "print(\"PatternAnalyzer results:\")\n",
    "for t in texts:\n",
    "    blob = TextBlob(t)\n",
    "    print(f\"{t:45} → polarity={blob.sentiment.polarity:+.2f}, subjectivity={blob.sentiment.subjectivity:.2f}\")\n"
   ]
  },
  {
   "cell_type": "code",
   "execution_count": null,
   "id": "f09cf199",
   "metadata": {},
   "outputs": [],
   "source": [
    "\n",
    "print(\"NaiveBayesAnalyzer results:\")\n",
    "for t in texts:\n",
    "    blob_nb = TextBlob(t, analyzer=NaiveBayesAnalyzer())\n",
    "    print(f\"{t:45} → {blob_nb.sentiment}\")\n"
   ]
  },
  {
   "cell_type": "markdown",
   "id": "2099505a",
   "metadata": {},
   "source": [
    "\n",
    "## 📚 Case Study: *Pride and Prejudice* (Jane Austen)\n",
    "Let's analyze the iconic opening paragraph — a neutral statement often misread by automatic systems.\n"
   ]
  },
  {
   "cell_type": "code",
   "execution_count": null,
   "id": "fbabae1c",
   "metadata": {},
   "outputs": [],
   "source": [
    "\n",
    "austen_text = (\n",
    "    \"It is a truth universally acknowledged, that a single man in possession of a good fortune, \"\n",
    "    \"must be in want of a wife. However little known the feelings or views of such a man may be \"\n",
    "    \"on his first entering a neighbourhood, this truth is so well fixed in the minds of the surrounding families, \"\n",
    "    \"that he is considered as the rightful property of some one or other of their daughters.\"\n",
    ")\n",
    "\n",
    "blob = TextBlob(austen_text)\n",
    "blob_nb = TextBlob(austen_text, analyzer=NaiveBayesAnalyzer())\n",
    "\n",
    "print(\"PatternAnalyzer:\", blob.sentiment)\n",
    "print(\"NaiveBayesAnalyzer:\", blob_nb.sentiment)\n"
   ]
  },
  {
   "cell_type": "markdown",
   "id": "17831030",
   "metadata": {},
   "source": [
    "\n",
    "### Why do both return neutral or zero?  \n",
    "- The text uses **formal, factual tone** — little emotional content.  \n",
    "- Sentiment analyzers rely on **emotionally charged words** (“great”, “terrible”, “love”, etc.).  \n",
    "- Literary or ironic sentences, even if socially sharp, appear *neutral* lexically.  \n",
    "\n",
    "This demonstrates **context blindness**: algorithms detect emotional words, not meaning.\n"
   ]
  },
  {
   "cell_type": "markdown",
   "id": "943c4d4a",
   "metadata": {},
   "source": [
    "\n",
    "## 🧪 Mini Lab — Try Your Own Text!\n",
    "Type your own English sentence or paragraph to see both analyzers in action.\n"
   ]
  },
  {
   "cell_type": "code",
   "execution_count": null,
   "id": "3736c899",
   "metadata": {},
   "outputs": [],
   "source": [
    "\n",
    "user_text = input(\"Enter a text in English: \")\n",
    "\n",
    "blob = TextBlob(user_text)\n",
    "blob_nb = TextBlob(user_text, analyzer=NaiveBayesAnalyzer())\n",
    "\n",
    "print(\"\\nPatternAnalyzer:\")\n",
    "print(f\"Polarity = {blob.sentiment.polarity:+.2f}, Subjectivity = {blob.sentiment.subjectivity:.2f}\")\n",
    "\n",
    "print(\"\\nNaiveBayesAnalyzer:\")\n",
    "print(blob_nb.sentiment)\n"
   ]
  },
  {
   "cell_type": "markdown",
   "id": "2d90bbf6",
   "metadata": {},
   "source": [
    "\n",
    "## 📊 Visualizing Multiple Texts\n",
    "We can compare the polarity from several inputs in a bar chart.\n"
   ]
  },
  {
   "cell_type": "code",
   "execution_count": null,
   "id": "35e70258",
   "metadata": {},
   "outputs": [],
   "source": [
    "\n",
    "import matplotlib.pyplot as plt\n",
    "\n",
    "samples = [\n",
    "    \"I love this AI class.\",\n",
    "    \"The weather is awful today.\",\n",
    "    \"This coffee tastes amazing.\",\n",
    "    \"I'm not sure how I feel about this.\",\n",
    "    \"What a disaster!\"\n",
    "]\n",
    "\n",
    "polarities = [TextBlob(t).sentiment.polarity for t in samples]\n",
    "\n",
    "plt.figure(figsize=(8,4))\n",
    "plt.barh(samples, polarities, color=\"steelblue\")\n",
    "plt.xlabel(\"Polarity (-1 = negative, +1 = positive)\")\n",
    "plt.title(\"Sentiment Polarity — PatternAnalyzer\")\n",
    "plt.grid(axis=\"x\", linestyle=\"--\", alpha=0.5)\n",
    "plt.show()\n"
   ]
  },
  {
   "cell_type": "markdown",
   "id": "b09f7458",
   "metadata": {},
   "source": [
    "\n",
    "## 🤖 Reflection: AI’s Role and Ethical Aspects\n",
    "\n",
    "### Technical role\n",
    "- AI automates **sentiment detection** at scale — useful in social media, marketing, and education feedback.  \n",
    "- Advanced models (e.g., transformer-based) learn deeper context and sarcasm patterns.\n",
    "\n",
    "### Ethical and interpretive responsibility\n",
    "- Results must not be taken as *truth* — they are **probabilistic interpretations**.  \n",
    "- Biases in training data can reflect **cultural stereotypes** or **tone misunderstandings**.  \n",
    "- In educational or professional use, complement algorithmic insight with **human interpretation**.\n",
    "\n",
    "> Always analyze *why* a model reached a conclusion — not just *what* it concluded.\n"
   ]
  }
 ],
 "metadata": {
  "colab": {
   "name": "sentimientos_v2.ipynb"
  },
  "kernelspec": {
   "display_name": "Python 3",
   "name": "python3"
  },
  "language_info": {
   "name": "python",
   "version": "3.x"
  }
 },
 "nbformat": 4,
 "nbformat_minor": 5
}
