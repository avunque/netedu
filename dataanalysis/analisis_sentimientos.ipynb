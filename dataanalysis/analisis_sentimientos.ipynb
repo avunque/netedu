{
 "cells": [
  {
   "cell_type": "markdown",
   "id": "8e684c12",
   "metadata": {},
   "source": [
    "\n",
    "# Análisis de Sentimientos en Textos  \n",
    "**Curso de Análisis de Datos con IA — Doribel Rodríguez y Antonio Vantaggiato**  \n",
    "\n",
    "En este cuaderno exploraremos cómo la inteligencia artificial puede analizar el **sentimiento o tono emocional** de un texto.  \n",
    "Aprenderás a usar herramientas básicas de **procesamiento de lenguaje natural (PLN)** para identificar si un texto tiene un tono **positivo, negativo o neutro**.  \n"
   ]
  },
  {
   "cell_type": "markdown",
   "id": "02c945df",
   "metadata": {},
   "source": [
    "\n",
    "## Definiciones clave\n",
    "\n",
    "- **Token**: unidad mínima de texto, normalmente una palabra.\n",
    "- **Stopword**: palabra común (como *el, la, de, y*) que se elimina para simplificar el análisis.\n",
    "- **Polaridad**: valor entre -1 (negativo) y +1 (positivo) que representa el sentimiento.\n",
    "- **Subjetividad**: grado de opinión o emoción (0 = objetivo, 1 = muy subjetivo).\n",
    "- **Corpus**: conjunto de textos usados para entrenar o analizar modelos lingüísticos.\n"
   ]
  },
  {
   "cell_type": "markdown",
   "id": "d56c0d26",
   "metadata": {},
   "source": [
    "## 1) Importar librerías"
   ]
  },
  {
   "cell_type": "code",
   "execution_count": null,
   "id": "d4ddebc6",
   "metadata": {},
   "outputs": [],
   "source": [
    "\n",
    "# Instalamos TextBlob si no está disponible (en Colab suele venir preinstalado)\n",
    "!pip install -q textblob\n",
    "\n",
    "from textblob import TextBlob\n"
   ]
  },
  {
   "cell_type": "markdown",
   "id": "b8ac21aa",
   "metadata": {},
   "source": [
    "## 2) Texto de ejemplo"
   ]
  },
  {
   "cell_type": "code",
   "execution_count": null,
   "id": "afb0c4e5",
   "metadata": {},
   "outputs": [],
   "source": [
    "\n",
    "# Usaremos un fragmento breve de 'El ingenioso hidalgo Don Quijote de la Mancha' (Dom. público).\n",
    "texto = '''\n",
    "En un lugar de la Mancha, de cuyo nombre no quiero acordarme,\n",
    "no ha mucho tiempo que vivía un hidalgo de los de lanza en astillero,\n",
    "adarga antigua, rocín flaco y galgo corredor.\n",
    "'''\n",
    "\n",
    "print(texto)\n"
   ]
  },
  {
   "cell_type": "markdown",
   "id": "36d90ff9",
   "metadata": {},
   "source": [
    "## 3) Crear un objeto TextBlob y analizar el sentimiento"
   ]
  },
  {
   "cell_type": "code",
   "execution_count": null,
   "id": "52217ce4",
   "metadata": {},
   "outputs": [],
   "source": [
    "\n",
    "# Creamos el objeto de análisis\n",
    "blob = TextBlob(texto)\n",
    "\n",
    "# Traducimos a inglés si es necesario (TextBlob usa modelo en inglés)\n",
    "blob_en = blob.translate(to='en')\n",
    "\n",
    "# Analizamos polaridad y subjetividad\n",
    "sentimiento = blob_en.sentiment\n",
    "print(f\"Polaridad: {sentimiento.polarity:.3f}\")\n",
    "print(f\"Subjetividad: {sentimiento.subjectivity:.3f}\")\n"
   ]
  },
  {
   "cell_type": "markdown",
   "id": "95c2083c",
   "metadata": {},
   "source": [
    "## 4) Interpretación de resultados"
   ]
  },
  {
   "cell_type": "code",
   "execution_count": null,
   "id": "f1e0cf92",
   "metadata": {},
   "outputs": [],
   "source": [
    "\n",
    "if sentimiento.polarity > 0:\n",
    "    print(\"El texto tiene un tono POSITIVO 😊\")\n",
    "elif sentimiento.polarity < 0:\n",
    "    print(\"El texto tiene un tono NEGATIVO 😟\")\n",
    "else:\n",
    "    print(\"El texto tiene un tono NEUTRO 😐\")\n"
   ]
  },
  {
   "cell_type": "markdown",
   "id": "9b6e3aa7",
   "metadata": {},
   "source": [
    "\n",
    "## 5) Reflexión ética y técnica\n",
    "- El análisis de sentimientos puede ser útil en redes sociales, educación o mercadeo, pero **no es infalible**.  \n",
    "- El idioma, la ironía y el contexto cultural afectan los resultados.  \n",
    "- Modelos como `TextBlob` reflejan los **sesgos del idioma inglés**, por lo que traducir textos puede cambiar su sentido.  \n",
    "- Es importante complementar estos análisis con **interpretación humana crítica**.\n"
   ]
  },
  {
   "cell_type": "markdown",
   "id": "3079c257",
   "metadata": {},
   "source": [
    "\n",
    "## 6) Actividad sugerida\n",
    "1. Cambia el texto a otro fragmento de tu elección (de un libro o noticia).  \n",
    "2. Compara la polaridad y subjetividad de distintos textos.  \n",
    "3. Analiza cómo cambia el resultado si escribes una opinión personal.  \n",
    "4. ¿Qué limitaciones observas en este enfoque?  \n"
   ]
  }
 ],
 "metadata": {
  "colab": {
   "name": "analisis_sentimientos.ipynb"
  },
  "kernelspec": {
   "display_name": "Python 3",
   "name": "python3"
  },
  "language_info": {
   "name": "python",
   "version": "3.x"
  }
 },
 "nbformat": 4,
 "nbformat_minor": 5
}
