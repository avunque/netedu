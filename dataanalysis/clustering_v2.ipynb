{
 "cells": [
  {
   "cell_type": "markdown",
   "id": "84319012",
   "metadata": {},
   "source": [
    "\n",
    "# 🎛️ Clustering con K-Means — Versión Explicativa (v2)  \n",
    "**Curso de Análisis de Datos con IA** · **Autores:** Doribel Rodríguez y Antonio Vantaggiato\n",
    "\n",
    "**Objetivo pedagógico.** Comprender el algoritmo **K-Means** (objetivo, inercia, centroides y escalado), aplicar el **método del codo** y **silhouette**, y comparar un **dataset clásico sintético** con un **caso aplicado educativo/social**.\n"
   ]
  },
  {
   "cell_type": "markdown",
   "id": "0f04a213",
   "metadata": {},
   "source": [
    "\n",
    "## 🧠 Conceptos esenciales\n",
    "\n",
    "- **Clustering (agrupamiento).** Descubre estructuras en datos **sin etiquetas**.  \n",
    "- **K-Means.** Asigna cada punto al **centroide** más cercano y actualiza los centroides como la media del cluster.  \n",
    "- **Función objetivo (inercia).** Suma de distancias cuadráticas punto–centroide; el algoritmo intenta **minimizarla**.  \n",
    "- **Escalado.** Variables en diferentes escalas distorsionan las distancias; usa `StandardScaler`.  \n",
    "- **Elección de k.** Método del **codo** (cambios en inercia) y **coeficiente silhouette** (−1 a 1).\n"
   ]
  },
  {
   "cell_type": "markdown",
   "id": "1b2189ef",
   "metadata": {},
   "source": [
    "## 1) Preparación del entorno"
   ]
  },
  {
   "cell_type": "code",
   "execution_count": null,
   "id": "c2b22610",
   "metadata": {},
   "outputs": [],
   "source": [
    "\n",
    "import numpy as np\n",
    "import pandas as pd\n",
    "import matplotlib.pyplot as plt\n",
    "\n",
    "from sklearn.cluster import KMeans\n",
    "from sklearn.preprocessing import StandardScaler\n",
    "from sklearn.metrics import silhouette_score\n",
    "from sklearn.datasets import make_blobs\n",
    "\n",
    "%matplotlib inline\n"
   ]
  },
  {
   "cell_type": "markdown",
   "id": "df7abfcf",
   "metadata": {},
   "source": [
    "\n",
    "## 2) Dataset clásico sintético: **make_blobs** (3 clústeres)\n"
   ]
  },
  {
   "cell_type": "code",
   "execution_count": null,
   "id": "e16d1410",
   "metadata": {},
   "outputs": [],
   "source": [
    "\n",
    "X, y_true = make_blobs(n_samples=400, centers=3, cluster_std=1.1, random_state=42)\n",
    "scaler = StandardScaler()\n",
    "Xs = scaler.fit_transform(X)\n",
    "\n",
    "inertias = []\n",
    "silhouettes = []\n",
    "ks = range(2, 8)\n",
    "for k in ks:\n",
    "    km = KMeans(n_clusters=k, n_init=10, random_state=42)\n",
    "    km.fit(Xs)\n",
    "    inertias.append(km.inertia_)\n",
    "    silhouettes.append(silhouette_score(Xs, km.labels_))\n",
    "\n",
    "fig, ax = plt.subplots(1,2, figsize=(11,4))\n",
    "ax[0].plot(list(ks), inertias, marker=\"o\")\n",
    "ax[0].set_title(\"Método del codo (inercia)\")\n",
    "ax[0].set_xlabel(\"k\")\n",
    "ax[0].set_ylabel(\"Inercia\")\n",
    "\n",
    "ax[1].plot(list(ks), silhouettes, marker=\"o\")\n",
    "ax[1].set_title(\"Coeficiente silhouette\")\n",
    "ax[1].set_xlabel(\"k\")\n",
    "ax[1].set_ylabel(\"Silhouette\")\n",
    "plt.show()\n",
    "\n",
    "# Elegimos k=3 y visualizamos\n",
    "k_best = 3\n",
    "km = KMeans(n_clusters=k_best, n_init=10, random_state=42).fit(Xs)\n",
    "labels = km.labels_\n",
    "centroids = km.cluster_centers_\n",
    "\n",
    "plt.figure(figsize=(6,5))\n",
    "plt.scatter(Xs[:,0], Xs[:,1], c=labels, s=40, alpha=0.8)\n",
    "plt.scatter(centroids[:,0], centroids[:,1], marker=\"X\", s=200, edgecolor=\"k\")\n",
    "plt.title(\"K-Means (k=3) — Datos escalados\")\n",
    "plt.xlabel(\"Componente 1 (estandarizada)\")\n",
    "plt.ylabel(\"Componente 2 (estandarizada)\")\n",
    "plt.grid(True)\n",
    "plt.show()\n"
   ]
  },
  {
   "cell_type": "markdown",
   "id": "28236d1f",
   "metadata": {},
   "source": [
    "\n",
    "## 3) Caso aplicado educativo/social: **hábitos estudiantiles** (dataset simulado realista)\n",
    "\n",
    "Variables (simuladas):  \n",
    "- **horas_estudio**, **asistencia_%**, **horas_pantalla/día**, **horas_sueño**, **promedio_prev**.  \n",
    "Buscamos **perfiles** de estudiantes (p. ej., \"alta dedicación\", \"equilibrados\", \"riesgo\").\n"
   ]
  },
  {
   "cell_type": "code",
   "execution_count": null,
   "id": "539c2d0f",
   "metadata": {},
   "outputs": [],
   "source": [
    "\n",
    "rng = np.random.default_rng(1)\n",
    "n = 240\n",
    "horas_estudio = rng.normal(6, 2, n).clip(0, 12)\n",
    "asistencia = rng.normal(82, 10, n).clip(40, 100)\n",
    "horas_pantalla = rng.normal(4, 1.5, n).clip(0, 10)\n",
    "horas_sueno = rng.normal(7, 1, n).clip(3, 10)\n",
    "prom_prev = rng.normal(75, 12, n).clip(0, 100)\n",
    "\n",
    "df = pd.DataFrame({\n",
    "    \"horas_estudio\": horas_estudio.round(1),\n",
    "    \"asistencia_%\": asistencia.round(1),\n",
    "    \"horas_pantalla\": horas_pantalla.round(1),\n",
    "    \"horas_sueno\": horas_sueno.round(1),\n",
    "    \"promedio_prev\": prom_prev.round(1)\n",
    "})\n",
    "df.head()\n"
   ]
  },
  {
   "cell_type": "code",
   "execution_count": null,
   "id": "d6dabf2a",
   "metadata": {},
   "outputs": [],
   "source": [
    "\n",
    "# Escalado y elección de k por codo y silhouette\n",
    "sc = StandardScaler()\n",
    "Xs2 = sc.fit_transform(df.values)\n",
    "\n",
    "inertias2, silhouettes2, ks2 = [], [], range(2, 9)\n",
    "for k in ks2:\n",
    "    km2 = KMeans(n_clusters=k, n_init=10, random_state=42).fit(Xs2)\n",
    "    inertias2.append(km2.inertia_)\n",
    "    silhouettes2.append(silhouette_score(Xs2, km2.labels_))\n",
    "\n",
    "fig, ax = plt.subplots(1,2, figsize=(11,4))\n",
    "ax[0].plot(list(ks2), inertias2, marker=\"o\")\n",
    "ax[0].set_title(\"Codo — hábitos estudiantiles\")\n",
    "ax[0].set_xlabel(\"k\"); ax[0].set_ylabel(\"Inercia\")\n",
    "\n",
    "ax[1].plot(list(ks2), silhouettes2, marker=\"o\")\n",
    "ax[1].set_title(\"Silhouette — hábitos estudiantiles\")\n",
    "ax[1].set_xlabel(\"k\"); ax[1].set_ylabel(\"Silhouette\")\n",
    "plt.show()\n",
    "\n",
    "k_sel = 3\n",
    "km2 = KMeans(n_clusters=k_sel, n_init=10, random_state=42).fit(Xs2)\n",
    "labels2 = km2.labels_\n",
    "df_clusters = df.copy()\n",
    "df_clusters[\"cluster\"] = labels2\n",
    "df_clusters.head()\n"
   ]
  },
  {
   "cell_type": "markdown",
   "id": "bc0f3361",
   "metadata": {},
   "source": [
    "### 3.1) Perfil de clústeres (medias por grupo)"
   ]
  },
  {
   "cell_type": "code",
   "execution_count": null,
   "id": "480cf173",
   "metadata": {},
   "outputs": [],
   "source": [
    "\n",
    "summary = df_clusters.groupby(\"cluster\").mean().round(2)\n",
    "display(summary)\n",
    "\n",
    "# Visualización comparativa de medias por cluster (barras)\n",
    "fig, axes = plt.subplots(1, 3, figsize=(14,4), sharey=True)\n",
    "for c in range(3):\n",
    "    means = summary.loc[c]\n",
    "    axes[c].bar(means.index, means.values)\n",
    "    axes[c].set_title(f\"Cluster {c}\")\n",
    "    axes[c].tick_params(axis='x', rotation=45)\n",
    "    axes[c].grid(axis=\"y\", linestyle=\"--\", alpha=0.5)\n",
    "plt.suptitle(\"Medias por cluster — hábitos estudiantiles\")\n",
    "plt.tight_layout()\n",
    "plt.show()\n"
   ]
  },
  {
   "cell_type": "markdown",
   "id": "7ad1fbca",
   "metadata": {},
   "source": [
    "\n",
    "## 4) Cierre\n",
    "- **K-Means** requiere **especificar k** y es sensible a la escala: usa estandarización.  \n",
    "- Usa **codo** y **silhouette** como guía; valida la **interpretabilidad** de los grupos con el contexto.  \n",
    "- En el caso aplicado, los clusters pueden sugerir perfiles de dedicación/riesgo; evita juicios deterministas y considera factores éticos.\n"
   ]
  }
 ],
 "metadata": {
  "colab": {
   "name": "clustering_v2.ipynb"
  },
  "kernelspec": {
   "display_name": "Python 3",
   "name": "python3"
  },
  "language_info": {
   "name": "python",
   "version": "3.x"
  }
 },
 "nbformat": 4,
 "nbformat_minor": 5
}
