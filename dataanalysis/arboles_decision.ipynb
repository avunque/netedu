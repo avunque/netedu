{
 "cells": [
  {
   "cell_type": "markdown",
   "id": "a0a375a1",
   "metadata": {},
   "source": [
    "\n",
    "# 🌳 Árboles de Decisión — Versión Explicativa (v3)  \n",
    "**Curso de Análisis de Datos con IA**  \n",
    "**Autores:** Doribel Rodríguez y Antonio Vantaggiato\n",
    "\n",
    "**Objetivo pedagógico.** Comprender y aplicar árboles de decisión con dos casos:\n",
    "1) **Dataset clásico Iris** (comparación técnica).  \n",
    "2) **Caso educativo realista** (predicción de aprobación).  \n",
    "\n",
    "Incluye explicación de **matriz de confusión**, métricas (accuracy, precision, recall, F1) e **importancias de variables**.\n"
   ]
  },
  {
   "cell_type": "markdown",
   "id": "7eb39a9e",
   "metadata": {},
   "source": [
    "\n",
    "## 🧠 Conceptos clave\n",
    "- Un **árbol de decisión** divide el espacio de características con reglas *if/else* para asignar una clase en sus **hojas**.  \n",
    "- **Criterios**: *Gini* y *Entropía* miden la pureza de las particiones.  \n",
    "- **Sobreajuste**: árboles muy profundos memorizan el entrenamiento; control con `max_depth`, `min_samples_leaf`, `ccp_alpha` (poda).\n",
    "\n",
    "### 📊 Matriz de confusión (clasificación binaria)\n",
    "| Real \\ Predicho | Positivo | Negativo |\n",
    "|---:|:---:|:---:|\n",
    "| **Positivo** | **TP** | **FN** |\n",
    "| **Negativo** | **FP** | **TN** |\n",
    "\n",
    "- **TP**: acierto positivo; **TN**: acierto negativo.  \n",
    "- **FP**: falso positivo; **FN**: falso negativo.  \n",
    "\n",
    "Métricas derivadas:  \n",
    "- **Accuracy** = (TP+TN)/Total  \n",
    "- **Precision** = TP/(TP+FP)  \n",
    "- **Recall** = TP/(TP+FN)  \n",
    "- **F1** = 2·(Precision·Recall)/(Precision+Recall)\n"
   ]
  },
  {
   "cell_type": "markdown",
   "id": "ef6bd1fb",
   "metadata": {},
   "source": [
    "## 1) Preparación del entorno"
   ]
  },
  {
   "cell_type": "code",
   "execution_count": null,
   "id": "576d84a3",
   "metadata": {},
   "outputs": [],
   "source": [
    "\n",
    "import numpy as np\n",
    "import pandas as pd\n",
    "import matplotlib.pyplot as plt\n",
    "\n",
    "from sklearn.model_selection import train_test_split, cross_val_score\n",
    "from sklearn.tree import DecisionTreeClassifier, plot_tree\n",
    "from sklearn.metrics import (\n",
    "    accuracy_score, precision_score, recall_score, f1_score,\n",
    "    confusion_matrix, ConfusionMatrixDisplay, classification_report\n",
    ")\n",
    "from sklearn import datasets\n",
    "\n",
    "%matplotlib inline\n"
   ]
  },
  {
   "cell_type": "markdown",
   "id": "e12b9149",
   "metadata": {},
   "source": [
    "\n",
    "## 2) Caso A — Dataset clásico **Iris**\n",
    "Entrenamos un árbol base y visualizamos el desempeño.\n"
   ]
  },
  {
   "cell_type": "code",
   "execution_count": null,
   "id": "5dde8a0b",
   "metadata": {},
   "outputs": [],
   "source": [
    "\n",
    "iris = datasets.load_iris()\n",
    "X = iris.data\n",
    "y = iris.target\n",
    "feature_names = iris.feature_names\n",
    "target_names = iris.target_names\n",
    "\n",
    "X_train, X_test, y_train, y_test = train_test_split(\n",
    "    X, y, test_size=0.25, random_state=42, stratify=y\n",
    ")\n",
    "\n",
    "arbol_iris = DecisionTreeClassifier(random_state=42)\n",
    "arbol_iris.fit(X_train, y_train)\n",
    "\n",
    "y_pred = arbol_iris.predict(X_test)\n",
    "acc = accuracy_score(y_test, y_pred)\n",
    "\n",
    "print(f\"Exactitud (accuracy) en test: {acc:.3f}\")\n",
    "cm = confusion_matrix(y_test, y_pred, labels=arbol_iris.classes_)\n",
    "disp = ConfusionMatrixDisplay(confusion_matrix=cm, display_labels=target_names[arbol_iris.classes_])\n",
    "disp.plot(cmap=\"Blues\")\n",
    "plt.title(\"Matriz de confusión — Iris\")\n",
    "plt.show()\n",
    "\n",
    "plt.figure(figsize=(12,7))\n",
    "plot_tree(arbol_iris, feature_names=feature_names, class_names=target_names, filled=True, rounded=True)\n",
    "plt.title(\"Árbol de decisión — Iris\")\n",
    "plt.show()\n"
   ]
  },
  {
   "cell_type": "markdown",
   "id": "15cc01b5",
   "metadata": {},
   "source": [
    "### 2.1) Profundidad máxima y validación cruzada"
   ]
  },
  {
   "cell_type": "code",
   "execution_count": null,
   "id": "66e26a48",
   "metadata": {},
   "outputs": [],
   "source": [
    "\n",
    "depths = range(1, 11)\n",
    "scores = []\n",
    "for d in depths:\n",
    "    clf = DecisionTreeClassifier(max_depth=d, random_state=42)\n",
    "    cv = cross_val_score(clf, X, y, cv=5)\n",
    "    scores.append(cv.mean())\n",
    "\n",
    "plt.figure(figsize=(7,4))\n",
    "plt.plot(depths, scores, marker=\"o\")\n",
    "plt.xlabel(\"max_depth\")\n",
    "plt.ylabel(\"Accuracy CV (5-fold)\")\n",
    "plt.title(\"Elección de profundidad — Iris\")\n",
    "plt.grid(True, linestyle=\"--\", alpha=0.5)\n",
    "plt.show()\n"
   ]
  },
  {
   "cell_type": "markdown",
   "id": "98b0215f",
   "metadata": {},
   "source": [
    "\n",
    "## 3) Caso B — **Aprobación de estudiantes** (simulado realista)\n",
    "Variables:\n",
    "- **asistencia_%**, **horas_estudio**, **participa_clase** (0/1), **tareas_entregadas** (0–10),  \n",
    "  **promedio_prev** (0–100), **uso_plataforma** (0–1), **nivel_estres** (0–10), **satisfaccion_curso** (0–10).\n",
    "\n",
    "Objetivo: **aprobado** (0/1). Generamos la etiqueta con una regla latente probabilística para acercarnos a la realidad.\n"
   ]
  },
  {
   "cell_type": "code",
   "execution_count": null,
   "id": "fb44117a",
   "metadata": {},
   "outputs": [],
   "source": [
    "\n",
    "rng = np.random.default_rng(7)\n",
    "n = 400\n",
    "\n",
    "asistencia = rng.normal(82, 10, n).clip(40, 100)\n",
    "horas = rng.normal(6, 2.2, n).clip(0, 14)\n",
    "participa = rng.integers(0, 2, n)\n",
    "tareas = rng.integers(0, 11, n)\n",
    "prom_prev = rng.normal(74, 13, n).clip(0, 100)\n",
    "uso_plataforma = rng.beta(2, 1.5, n)  # 0-1\n",
    "estres = rng.normal(5.5, 2.0, n).clip(0, 10)\n",
    "satisfaccion = rng.normal(7.2, 1.8, n).clip(0, 10)\n",
    "\n",
    "logit = (\n",
    "    -7.0\n",
    "    + 0.035*asistencia\n",
    "    + 0.30*horas\n",
    "    + 0.55*participa\n",
    "    + 0.12*tareas\n",
    "    + 0.028*prom_prev\n",
    "    + 0.9*uso_plataforma\n",
    "    - 0.18*estres\n",
    "    + 0.22*satisfaccion\n",
    ")\n",
    "prob = 1 / (1 + np.exp(-logit))\n",
    "aprobado = (rng.uniform(0,1,n) < prob).astype(int)\n",
    "\n",
    "df = pd.DataFrame({\n",
    "    \"asistencia_%\": asistencia.round(1),\n",
    "    \"horas_estudio\": horas.round(1),\n",
    "    \"participa_clase\": participa,\n",
    "    \"tareas_entregadas\": tareas,\n",
    "    \"promedio_prev\": prom_prev.round(1),\n",
    "    \"uso_plataforma\": uso_plataforma.round(3),\n",
    "    \"nivel_estres\": estres.round(1),\n",
    "    \"satisfaccion_curso\": satisfaccion.round(1),\n",
    "    \"aprobado\": aprobado\n",
    "})\n",
    "df.head()\n"
   ]
  },
  {
   "cell_type": "markdown",
   "id": "ecb48a4c",
   "metadata": {},
   "source": [
    "### 3.1) Entrenamiento, matriz de confusión y métricas"
   ]
  },
  {
   "cell_type": "code",
   "execution_count": null,
   "id": "fd9cef7c",
   "metadata": {},
   "outputs": [],
   "source": [
    "\n",
    "X = df.drop(columns=[\"aprobado\"])\n",
    "y = df[\"aprobado\"]\n",
    "\n",
    "X_train, X_test, y_train, y_test = train_test_split(\n",
    "    X, y, test_size=0.25, random_state=42, stratify=y\n",
    ")\n",
    "\n",
    "tree = DecisionTreeClassifier(random_state=42, max_depth=5, min_samples_leaf=5)\n",
    "tree.fit(X_train, y_train)\n",
    "\n",
    "y_pred = tree.predict(X_test)\n",
    "\n",
    "acc = accuracy_score(y_test, y_pred)\n",
    "prec = precision_score(y_test, y_pred, zero_division=0)\n",
    "rec = recall_score(y_test, y_pred, zero_division=0)\n",
    "f1 = f1_score(y_test, y_pred, zero_division=0)\n",
    "\n",
    "print(f\"Accuracy:  {acc:.3f}\")\n",
    "print(f\"Precision: {prec:.3f}\")\n",
    "print(f\"Recall:    {rec:.3f}\")\n",
    "print(f\"F1-score:  {f1:.3f}\")\n",
    "\n",
    "cm = confusion_matrix(y_test, y_pred, labels=tree.classes_)\n",
    "disp = ConfusionMatrixDisplay(confusion_matrix=cm, display_labels=tree.classes_)\n",
    "disp.plot(cmap=\"Greens\")\n",
    "plt.title(\"Matriz de confusión — Estudiantes (0=No, 1=Sí)\")\n",
    "plt.show()\n",
    "\n",
    "print(\"\\nReporte de clasificación:\\n\")\n",
    "print(classification_report(y_test, y_pred, digits=3))\n"
   ]
  },
  {
   "cell_type": "markdown",
   "id": "67af730b",
   "metadata": {},
   "source": [
    "### 3.2) Importancia de variables y estructura del árbol"
   ]
  },
  {
   "cell_type": "code",
   "execution_count": null,
   "id": "e3e132e1",
   "metadata": {},
   "outputs": [],
   "source": [
    "\n",
    "importancias = pd.Series(tree.feature_importances_, index=X.columns).sort_values(ascending=False)\n",
    "display(importancias)\n",
    "\n",
    "plt.figure(figsize=(7,4))\n",
    "importancias.plot(kind=\"bar\")\n",
    "plt.title(\"Importancia de características — Árbol (estudiantes)\")\n",
    "plt.ylabel(\"Importancia\")\n",
    "plt.grid(axis=\"y\", linestyle=\"--\", alpha=0.5)\n",
    "plt.show()\n",
    "\n",
    "plt.figure(figsize=(14,8))\n",
    "plot_tree(tree, feature_names=X.columns, class_names=[\"No\",\"Sí\"], filled=True, rounded=True)\n",
    "plt.title(\"Árbol de decisión — Aprobación de estudiantes\")\n",
    "plt.show()\n"
   ]
  },
  {
   "cell_type": "markdown",
   "id": "0033eeb4",
   "metadata": {},
   "source": [
    "\n",
    "## 4) Interpretación responsable (cierre)\n",
    "- Revisa la matriz de confusión: ¿hay más **falsos negativos** o **falsos positivos**?  \n",
    "  En contexto educativo, priorizar *recall* puede ser deseable para **no pasar por alto** estudiantes en riesgo.\n",
    "- Las **importancias** sugieren qué variables guían la decisión (p. ej., horas de estudio, tareas, satisfacción).  \n",
    "  No confundas **correlación** con **causalidad**: usa estos hallazgos como **insumos**, no veredictos.\n",
    "- Controla la **complejidad** con `max_depth`/`min_samples_leaf` y valida con datos independientes.\n"
   ]
  }
 ],
 "metadata": {
  "colab": {
   "name": "arboles_v3.ipynb"
  },
  "kernelspec": {
   "display_name": "Python 3",
   "name": "python3"
  },
  "language_info": {
   "name": "python",
   "version": "3.x"
  }
 },
 "nbformat": 4,
 "nbformat_minor": 5
}
