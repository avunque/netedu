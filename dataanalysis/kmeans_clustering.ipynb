{
 "cells": [
  {
   "cell_type": "markdown",
   "id": "1a62ab6d",
   "metadata": {},
   "source": [
    "\n",
    "# Agrupamiento con K-Means  \n",
    "**Curso de Análisis de Datos con IA — Doribel Rodríguez y Antonio Vantaggiato**\n",
    "\n",
    "En este cuaderno aprenderás a aplicar el algoritmo **K-Means** para agrupar datos en grupos o *clusters* según su similitud.  \n",
    "Este método pertenece al **aprendizaje no supervisado**, porque los datos no tienen etiquetas predefinidas.  \n"
   ]
  },
  {
   "cell_type": "markdown",
   "id": "16226d75",
   "metadata": {},
   "source": [
    "\n",
    "## Definiciones clave\n",
    "\n",
    "- **Cluster**: grupo de elementos similares entre sí, más cercanos a su centro (*centroide*) que a los de otros grupos.\n",
    "- **Centroide**: punto medio de un grupo, calculado como el promedio de sus miembros.\n",
    "- **Aprendizaje no supervisado**: técnica en la que el modelo busca estructuras o patrones sin etiquetas previas.\n",
    "- **Escalamiento**: proceso de normalizar valores para que todas las variables contribuyan de manera similar.\n"
   ]
  },
  {
   "cell_type": "markdown",
   "id": "28347e3e",
   "metadata": {},
   "source": [
    "## 1) Importar librerías"
   ]
  },
  {
   "cell_type": "code",
   "execution_count": null,
   "id": "cbb03477",
   "metadata": {},
   "outputs": [],
   "source": [
    "\n",
    "import pandas as pd\n",
    "import matplotlib.pyplot as plt\n",
    "from sklearn.cluster import KMeans\n",
    "from sklearn.preprocessing import StandardScaler\n",
    "\n",
    "%matplotlib inline\n"
   ]
  },
  {
   "cell_type": "markdown",
   "id": "6e9bc175",
   "metadata": {},
   "source": [
    "## 2) Crear un conjunto de datos de ejemplo"
   ]
  },
  {
   "cell_type": "code",
   "execution_count": null,
   "id": "dd50dccc",
   "metadata": {},
   "outputs": [],
   "source": [
    "\n",
    "# Datos ficticios: horas de estudio y asistencia de estudiantes\n",
    "datos = {\n",
    "    'Horas de estudio': [2, 3, 4, 5, 6, 7, 8, 9, 10, 11],\n",
    "    'Asistencia (%)': [50, 55, 60, 65, 70, 80, 85, 90, 95, 100]\n",
    "}\n",
    "df = pd.DataFrame(datos)\n",
    "df.head()\n"
   ]
  },
  {
   "cell_type": "markdown",
   "id": "4e480f1f",
   "metadata": {},
   "source": [
    "## 3) Escalamiento de los datos"
   ]
  },
  {
   "cell_type": "code",
   "execution_count": null,
   "id": "77249ff9",
   "metadata": {},
   "outputs": [],
   "source": [
    "\n",
    "# Escalamos los datos para que todas las variables estén en la misma escala\n",
    "scaler = StandardScaler()\n",
    "datos_escalados = scaler.fit_transform(df)\n",
    "\n",
    "# Creamos un nuevo DataFrame para visualizar los datos escalados\n",
    "df_escalado = pd.DataFrame(datos_escalados, columns=df.columns)\n",
    "df_escalado.head()\n"
   ]
  },
  {
   "cell_type": "markdown",
   "id": "8b5f887c",
   "metadata": {},
   "source": [
    "## 4) Aplicar K-Means con k=2"
   ]
  },
  {
   "cell_type": "code",
   "execution_count": null,
   "id": "6d039457",
   "metadata": {},
   "outputs": [],
   "source": [
    "\n",
    "# Definimos el modelo con 2 clusters\n",
    "kmeans = KMeans(n_clusters=2, random_state=42, n_init=10)\n",
    "kmeans.fit(datos_escalados)\n",
    "\n",
    "# Agregamos la columna de cluster asignado al DataFrame original\n",
    "df['Cluster'] = kmeans.labels_\n",
    "df\n"
   ]
  },
  {
   "cell_type": "markdown",
   "id": "d6446e80",
   "metadata": {},
   "source": [
    "## 5) Visualizar los clusters"
   ]
  },
  {
   "cell_type": "code",
   "execution_count": null,
   "id": "eb307e5d",
   "metadata": {},
   "outputs": [],
   "source": [
    "\n",
    "plt.figure(figsize=(8,6))\n",
    "plt.scatter(df['Horas de estudio'], df['Asistencia (%)'], c=df['Cluster'], cmap='viridis', s=100)\n",
    "plt.title('Agrupamiento de estudiantes con K-Means')\n",
    "plt.xlabel('Horas de estudio')\n",
    "plt.ylabel('Asistencia (%)')\n",
    "plt.grid(True)\n",
    "plt.show()\n"
   ]
  },
  {
   "cell_type": "markdown",
   "id": "490c5b73",
   "metadata": {},
   "source": [
    "\n",
    "## 6) Reflexión\n",
    "- Los puntos del mismo color representan estudiantes con características similares.\n",
    "- El algoritmo K-Means intenta minimizar la distancia entre los puntos y su centroide.\n",
    "- Elegir el número de clusters (*k*) es una decisión importante: puede hacerse probando diferentes valores y observando el \"codo\" en la gráfica de inercia (método del codo).\n"
   ]
  },
  {
   "cell_type": "markdown",
   "id": "b72494fd",
   "metadata": {},
   "source": [
    "\n",
    "## 7) Actividad sugerida\n",
    "1. Cambia el valor de `n_clusters` a 3 y observa los nuevos grupos.\n",
    "2. Añade más datos (por ejemplo, un grupo con baja asistencia y muchas horas de estudio).\n",
    "3. ¿Qué conclusiones puedes sacar sobre los patrones de comportamiento estudiantil?\n"
   ]
  }
 ],
 "metadata": {
  "colab": {
   "name": "kmeans_clustering.ipynb"
  },
  "kernelspec": {
   "display_name": "Python 3",
   "name": "python3"
  },
  "language_info": {
   "name": "python",
   "version": "3.x"
  }
 },
 "nbformat": 4,
 "nbformat_minor": 5
}
