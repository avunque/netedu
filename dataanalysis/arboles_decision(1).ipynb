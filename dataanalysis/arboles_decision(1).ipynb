{
 "cells": [
  {
   "cell_type": "markdown",
   "id": "c160f294",
   "metadata": {},
   "source": [
    "\n",
    "# Clasificación con Árbol de Decisión  \n",
    "**Curso de Análisis de Datos con IA — Doribel Rodríguez y Antonio Vantaggiato**\n",
    "\n",
    "En este cuaderno aprenderás a entrenar un **árbol de decisión** para predecir si un estudiante aprobará un curso. El objetivo es comprender **paso a paso** cómo preparar datos, entrenar el modelo, visualizar el árbol y **explicar** las predicciones.\n"
   ]
  },
  {
   "cell_type": "markdown",
   "id": "c27640bd",
   "metadata": {},
   "source": [
    "\n",
    "## Definiciones clave\n",
    "\n",
    "- **DataFrame**: estructura de datos tabular de `pandas` (similar a una hoja de cálculo) con filas y columnas.\n",
    "- **Variable predictora** (característica o *feature*): atributo que usamos para predecir (ej. *Asistencia, Horas de estudio, Participa en clase*).\n",
    "- **Variable objetivo** (etiqueta o *label*): lo que queremos predecir (ej. *Aprobado*: Sí/No).\n",
    "- **Modelo**: algoritmo que aprende patrones a partir de ejemplos.\n",
    "- **Entrenamiento**: proceso de ajuste del modelo a los datos.\n",
    "- **Predicción**: aplicación del modelo a nuevos datos para estimar su resultado.\n",
    "- **Sobreajuste** (*overfitting*): cuando el modelo aprende demasiado los detalles del conjunto de entrenamiento y pierde capacidad de generalización.\n"
   ]
  },
  {
   "cell_type": "markdown",
   "id": "6ce1a993",
   "metadata": {},
   "source": [
    "## 1) Importar librerías"
   ]
  },
  {
   "cell_type": "code",
   "execution_count": null,
   "id": "0df54c73",
   "metadata": {},
   "outputs": [],
   "source": [
    "\n",
    "# Comentario: importamos las librerías necesarias.\n",
    "import pandas as pd\n",
    "import matplotlib.pyplot as plt\n",
    "\n",
    "from sklearn.tree import DecisionTreeClassifier, plot_tree\n",
    "\n",
    "# Hacemos que los gráficos aparezcan en la celda\n",
    "%matplotlib inline\n"
   ]
  },
  {
   "cell_type": "markdown",
   "id": "b8891882",
   "metadata": {},
   "source": [
    "## 2) Construir un DataFrame con datos ficticios"
   ]
  },
  {
   "cell_type": "code",
   "execution_count": null,
   "id": "9119d19a",
   "metadata": {},
   "outputs": [],
   "source": [
    "\n",
    "# Comentario: creamos un pequeño conjunto de datos con estudiantes y sus características.\n",
    "datos = {\n",
    "    'Estudiante': ['A', 'B', 'C', 'D', 'E', 'F', 'G', 'H'],\n",
    "    'Asistencia': [80, 60, 90, 75, 95, 50, 85, 90],\n",
    "    'Horas de estudio': [4, 2, 8, 3, 9, 1, 7, 8],\n",
    "    'Participa en clase': ['Sí', 'No', 'Sí', 'No', 'Sí', 'No', 'Sí', 'No'],\n",
    "    'Aprobado': ['Sí', 'No', 'Sí', 'No', 'Sí', 'No', 'Sí', 'Sí']\n",
    "}\n",
    "\n",
    "df = pd.DataFrame(datos)\n",
    "df  # Mostramos la tabla\n"
   ]
  },
  {
   "cell_type": "markdown",
   "id": "416fc672",
   "metadata": {},
   "source": [
    "## 3) Preparación de datos (codificación y selección)"
   ]
  },
  {
   "cell_type": "code",
   "execution_count": null,
   "id": "d47c0d4e",
   "metadata": {},
   "outputs": [],
   "source": [
    "\n",
    "# Comentario: convertimos la columna categórica 'Participa en clase' a números: Sí=1, No=0.\n",
    "df['Participa en clase'] = df['Participa en clase'].map({'Sí': 1, 'No': 0})\n",
    "\n",
    "# Comentario: convertimos la variable objetivo 'Aprobado' a 1/0 para el modelo.\n",
    "y = df['Aprobado'].map({'Sí': 1, 'No': 0})\n",
    "\n",
    "# Comentario: definimos la matriz de características (X) con las columnas numéricas relevantes.\n",
    "X = df[['Asistencia', 'Horas de estudio', 'Participa en clase']]\n",
    "\n",
    "X.head(), y.head()\n"
   ]
  },
  {
   "cell_type": "markdown",
   "id": "7a20d549",
   "metadata": {},
   "source": [
    "## 4) Entrenar el modelo de Árbol de Decisión"
   ]
  },
  {
   "cell_type": "code",
   "execution_count": null,
   "id": "0e8c384c",
   "metadata": {},
   "outputs": [],
   "source": [
    "\n",
    "# Comentario: instanciamos el clasificador. 'random_state' fija la aleatoriedad para reproducibilidad.\n",
    "modelo = DecisionTreeClassifier(random_state=42)\n",
    "modelo.fit(X, y)\n",
    "\n",
    "print(\"Entrenado correctamente ✅\")\n"
   ]
  },
  {
   "cell_type": "markdown",
   "id": "47e4aa5e",
   "metadata": {},
   "source": [
    "## 5) Visualizar el árbol aprendido"
   ]
  },
  {
   "cell_type": "code",
   "execution_count": null,
   "id": "b278aaaf",
   "metadata": {},
   "outputs": [],
   "source": [
    "\n",
    "# Comentario: graficamos el árbol con nombres de características y clases.\n",
    "plt.figure(figsize=(10, 6))\n",
    "plot_tree(modelo, feature_names=X.columns, class_names=['No', 'Sí'], filled=True, rounded=True)\n",
    "plt.title(\"Árbol de Decisión — Predicción de Aprobación\")\n",
    "plt.show()\n"
   ]
  },
  {
   "cell_type": "markdown",
   "id": "adea373e",
   "metadata": {},
   "source": [
    "## 6) Predicción con un nuevo estudiante"
   ]
  },
  {
   "cell_type": "code",
   "execution_count": null,
   "id": "f5379716",
   "metadata": {},
   "outputs": [],
   "source": [
    "\n",
    "# Comentario: definimos un nuevo estudiante con:\n",
    "# - 90% asistencia\n",
    "# - 8 horas de estudio\n",
    "# - No participa en clase (0)\n",
    "\n",
    "nuevo_estudiante = pd.DataFrame({\n",
    "    'Asistencia': [90],\n",
    "    'Horas de estudio': [8],\n",
    "    'Participa en clase': [0]\n",
    "})\n",
    "\n",
    "prediccion = modelo.predict(nuevo_estudiante)[0]\n",
    "prob = modelo.predict_proba(nuevo_estudiante)[0][prediccion]\n",
    "\n",
    "resultado = \"Aprobará\" if prediccion == 1 else \"No aprobará\"\n",
    "print(f\"Predicción: {resultado} (probabilidad estimada: {prob:.2f})\")\n"
   ]
  },
  {
   "cell_type": "markdown",
   "id": "1d013184",
   "metadata": {},
   "source": [
    "\n",
    "## 7) Actividad sugerida\n",
    "1. Modifica los valores del estudiante nuevo (por ejemplo, cambia *Horas de estudio* a 3) y observa el efecto en la predicción.\n",
    "2. Cambia la **profundidad máxima** del árbol usando `DecisionTreeClassifier(max_depth=2, random_state=42)` y compara los resultados.\n",
    "3. Agrega más ejemplos al *DataFrame* para robustecer el entrenamiento (más filas con combinaciones variadas).\n",
    "\n",
    "---\n",
    "\n",
    "## Reflexión y práctica adicional\n",
    "- ¿Qué ventaja tiene un modelo **explicable** como el árbol de decisión frente a otros modelos más complejos?\n",
    "- ¿Cómo evitarías el **sobreajuste** (poda, profundidad, mínimo de muestras por hoja)?\n",
    "- ¿Qué **sesgos** podrían existir en este conjunto de datos (p. ej., si no representara a todos los perfiles de estudiantes)?\n"
   ]
  }
 ],
 "metadata": {
  "colab": {
   "name": "arboles_decision.ipynb"
  },
  "kernelspec": {
   "display_name": "Python 3",
   "name": "python3"
  },
  "language_info": {
   "name": "python",
   "version": "3.x"
  }
 },
 "nbformat": 4,
 "nbformat_minor": 5
}
